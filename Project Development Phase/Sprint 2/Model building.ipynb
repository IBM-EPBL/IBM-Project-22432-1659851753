{
 "cells": [
  {
   "cell_type": "markdown",
   "id": "4618b57e",
   "metadata": {
    "id": "4618b57e"
   },
   "source": [
    "Team ID : PNT2022TMID04563\n",
    "Project Name:  Crude Oil Price Prediction"
   ]
  },
  {
   "cell_type": "markdown",
   "id": "4400bcaa",
   "metadata": {
    "id": "4400bcaa"
   },
   "source": [
    "# DATA PREPROCESSING\n"
   ]
  },
  {
   "cell_type": "markdown",
   "id": "2b7dd17e",
   "metadata": {
    "id": "2b7dd17e"
   },
   "source": [
    "## Importing the libraries"
   ]
  },
  {
   "cell_type": "code",
   "execution_count": 1,
   "id": "054819ac",
   "metadata": {
    "id": "054819ac"
   },
   "outputs": [],
   "source": [
    "import pandas as pd\n",
    "import numpy as np\n",
    "import matplotlib.pyplot as plt\n",
    "import tensorflow as tf"
   ]
  },
  {
   "cell_type": "code",
   "execution_count": 2,
   "id": "d788eaef",
   "metadata": {},
   "outputs": [],
   "source": [
    "import os"
   ]
  },
  {
   "cell_type": "code",
   "execution_count": 3,
   "id": "a45e95ce",
   "metadata": {},
   "outputs": [],
   "source": [
    "os.chdir('E:\\\\IBM\\\\Dataset')"
   ]
  },
  {
   "cell_type": "code",
   "execution_count": 4,
   "id": "af51aeff",
   "metadata": {
    "id": "af51aeff"
   },
   "outputs": [],
   "source": [
    "data=pd.read_csv(r\"Crude Oil Prices Daily.csv\")"
   ]
  },
  {
   "cell_type": "code",
   "execution_count": 5,
   "id": "fc44eaa6",
   "metadata": {
    "id": "fc44eaa6",
    "outputId": "e5df4676-b241-464a-c9ce-98a48cd212c3"
   },
   "outputs": [
    {
     "data": {
      "text/html": [
       "<div>\n",
       "<style scoped>\n",
       "    .dataframe tbody tr th:only-of-type {\n",
       "        vertical-align: middle;\n",
       "    }\n",
       "\n",
       "    .dataframe tbody tr th {\n",
       "        vertical-align: top;\n",
       "    }\n",
       "\n",
       "    .dataframe thead th {\n",
       "        text-align: right;\n",
       "    }\n",
       "</style>\n",
       "<table border=\"1\" class=\"dataframe\">\n",
       "  <thead>\n",
       "    <tr style=\"text-align: right;\">\n",
       "      <th></th>\n",
       "      <th>Date</th>\n",
       "      <th>Closing Value</th>\n",
       "    </tr>\n",
       "  </thead>\n",
       "  <tbody>\n",
       "    <tr>\n",
       "      <th>0</th>\n",
       "      <td>02-01-1986</td>\n",
       "      <td>25.56</td>\n",
       "    </tr>\n",
       "    <tr>\n",
       "      <th>1</th>\n",
       "      <td>03-01-1986</td>\n",
       "      <td>26.00</td>\n",
       "    </tr>\n",
       "    <tr>\n",
       "      <th>2</th>\n",
       "      <td>06-01-1986</td>\n",
       "      <td>26.53</td>\n",
       "    </tr>\n",
       "    <tr>\n",
       "      <th>3</th>\n",
       "      <td>07-01-1986</td>\n",
       "      <td>25.85</td>\n",
       "    </tr>\n",
       "    <tr>\n",
       "      <th>4</th>\n",
       "      <td>08-01-1986</td>\n",
       "      <td>25.87</td>\n",
       "    </tr>\n",
       "  </tbody>\n",
       "</table>\n",
       "</div>"
      ],
      "text/plain": [
       "         Date  Closing Value\n",
       "0  02-01-1986          25.56\n",
       "1  03-01-1986          26.00\n",
       "2  06-01-1986          26.53\n",
       "3  07-01-1986          25.85\n",
       "4  08-01-1986          25.87"
      ]
     },
     "execution_count": 5,
     "metadata": {},
     "output_type": "execute_result"
    }
   ],
   "source": [
    "data.head()"
   ]
  },
  {
   "cell_type": "markdown",
   "id": "69f03019",
   "metadata": {
    "id": "69f03019"
   },
   "source": [
    "## Handling missing values"
   ]
  },
  {
   "cell_type": "code",
   "execution_count": 6,
   "id": "1c588816",
   "metadata": {
    "id": "1c588816",
    "outputId": "80f9c0dc-6171-4f5c-e344-6f36b937c0dd"
   },
   "outputs": [
    {
     "data": {
      "text/plain": [
       "Date             False\n",
       "Closing Value     True\n",
       "dtype: bool"
      ]
     },
     "execution_count": 6,
     "metadata": {},
     "output_type": "execute_result"
    }
   ],
   "source": [
    "data.isnull().any()"
   ]
  },
  {
   "cell_type": "code",
   "execution_count": 7,
   "id": "9557ff33",
   "metadata": {
    "id": "9557ff33",
    "outputId": "ec3a5a0c-3b5e-48c4-bc13-8194c5624dd2"
   },
   "outputs": [
    {
     "data": {
      "text/plain": [
       "Date             0\n",
       "Closing Value    7\n",
       "dtype: int64"
      ]
     },
     "execution_count": 7,
     "metadata": {},
     "output_type": "execute_result"
    }
   ],
   "source": [
    "data.isnull().sum()"
   ]
  },
  {
   "cell_type": "code",
   "execution_count": 8,
   "id": "24c5f4dc",
   "metadata": {
    "id": "24c5f4dc"
   },
   "outputs": [],
   "source": [
    "data.dropna(axis=0,inplace=True)"
   ]
  },
  {
   "cell_type": "code",
   "execution_count": 9,
   "id": "54807a83",
   "metadata": {
    "id": "54807a83"
   },
   "outputs": [],
   "source": [
    "data_oil=data.reset_index()['Closing Value']"
   ]
  },
  {
   "cell_type": "code",
   "execution_count": 10,
   "id": "630d074d",
   "metadata": {
    "id": "630d074d",
    "outputId": "a32476ff-e8ca-48f6-86b3-698765681eb3"
   },
   "outputs": [
    {
     "data": {
      "text/plain": [
       "0       25.56\n",
       "1       26.00\n",
       "2       26.53\n",
       "3       25.85\n",
       "4       25.87\n",
       "        ...  \n",
       "8211    73.89\n",
       "8212    74.19\n",
       "8213    73.05\n",
       "8214    73.78\n",
       "8215    73.93\n",
       "Name: Closing Value, Length: 8216, dtype: float64"
      ]
     },
     "execution_count": 10,
     "metadata": {},
     "output_type": "execute_result"
    }
   ],
   "source": [
    "data_oil"
   ]
  },
  {
   "cell_type": "code",
   "execution_count": 11,
   "id": "99c62b35",
   "metadata": {
    "id": "99c62b35",
    "outputId": "4193c95e-0dbb-4deb-f0fe-8e9f885b3618"
   },
   "outputs": [
    {
     "data": {
      "text/plain": [
       "Date             False\n",
       "Closing Value    False\n",
       "dtype: bool"
      ]
     },
     "execution_count": 11,
     "metadata": {},
     "output_type": "execute_result"
    }
   ],
   "source": [
    "data.isnull().any()"
   ]
  },
  {
   "cell_type": "markdown",
   "id": "146d7f78",
   "metadata": {
    "id": "146d7f78"
   },
   "source": [
    "## Feature Scaling "
   ]
  },
  {
   "cell_type": "code",
   "execution_count": 12,
   "id": "f7336cdd",
   "metadata": {
    "id": "f7336cdd"
   },
   "outputs": [],
   "source": [
    "from sklearn.preprocessing import MinMaxScaler\n",
    "scalar=MinMaxScaler(feature_range=(0,1))\n",
    "data_oil=scalar.fit_transform(np.array(data_oil).reshape(-1,1))\n"
   ]
  },
  {
   "cell_type": "markdown",
   "id": "187867e9",
   "metadata": {
    "id": "187867e9"
   },
   "source": [
    "## Data Visualization"
   ]
  },
  {
   "cell_type": "code",
   "execution_count": 13,
   "id": "1f9e383c",
   "metadata": {
    "id": "1f9e383c",
    "outputId": "cfaba6de-b799-4a51-c925-4c79707a6138"
   },
   "outputs": [
    {
     "data": {
      "text/plain": [
       "[<matplotlib.lines.Line2D at 0x2348d198fa0>]"
      ]
     },
     "execution_count": 13,
     "metadata": {},
     "output_type": "execute_result"
    },
    {
     "data": {
      "image/png": "[encoded data removed]",
      "text/plain": [
       "<Figure size 432x288 with 1 Axes>"
      ]
     },
     "metadata": {
      "needs_background": "light"
     },
     "output_type": "display_data"
    }
   ],
   "source": [
    "plt.title('Crude oil price')\n",
    "plt.plot(data_oil)"
   ]
  },
  {
   "cell_type": "markdown",
   "id": "c7caca92",
   "metadata": {
    "id": "c7caca92"
   },
   "source": [
    "## Splitting data into Train and Test Data"
   ]
  },
  {
   "cell_type": "code",
   "execution_count": 14,
   "id": "7c92dd1a",
   "metadata": {
    "id": "7c92dd1a"
   },
   "outputs": [],
   "source": [
    "training_size=int(len(data_oil)*0.65)\n",
    "test_size=len(data_oil)-training_size\n",
    "train_data,test_data=data_oil[0:training_size,:],data_oil[training_size:len(data_oil),:1]"
   ]
  },
  {
   "cell_type": "code",
   "execution_count": 15,
   "id": "0c90ae84",
   "metadata": {
    "id": "0c90ae84",
    "outputId": "e8ea115e-e47a-4020-c234-97207a56f00a"
   },
   "outputs": [
    {
     "data": {
      "text/plain": [
       "(5340, 2876)"
      ]
     },
     "execution_count": 15,
     "metadata": {},
     "output_type": "execute_result"
    }
   ],
   "source": [
    "training_size,test_size"
   ]
  },
  {
   "cell_type": "code",
   "execution_count": 16,
   "id": "97298e0b",
   "metadata": {
    "id": "97298e0b",
    "outputId": "75f894b2-8a05-4827-d625-197857576fe9"
   },
   "outputs": [
    {
     "data": {
      "text/plain": [
       "(5340, 1)"
      ]
     },
     "execution_count": 16,
     "metadata": {},
     "output_type": "execute_result"
    }
   ],
   "source": [
    "train_data.shape"
   ]
  },
  {
   "cell_type": "markdown",
   "id": "d7aa1bff",
   "metadata": {
    "id": "d7aa1bff"
   },
   "source": [
    "## Creating a dataset with sliding windows"
   ]
  },
  {
   "cell_type": "code",
   "execution_count": 17,
   "id": "10dd625c",
   "metadata": {
    "id": "10dd625c"
   },
   "outputs": [],
   "source": [
    "def create_dataset (dataset, time_step=1):\n",
    "    dataX, dataY = [], []\n",
    "\n",
    "    for i in range(len(dataset)-time_step-1):\n",
    "\n",
    "        a = dataset[i:(i+time_step), 0] \n",
    "        dataX.append(a)\n",
    "        dataY.append(dataset[i + time_step, 0])\n",
    "\n",
    "    return np.array(dataX),np.array(dataY)"
   ]
  },
  {
   "cell_type": "code",
   "execution_count": 18,
   "id": "e4e4df14",
   "metadata": {
    "id": "e4e4df14"
   },
   "outputs": [],
   "source": [
    "time_step = 10\n",
    "\n",
    "X_train, y_train=create_dataset(train_data,time_step)\n",
    "\n",
    "X_test, y_test = create_dataset(test_data,time_step)"
   ]
  },
  {
   "cell_type": "code",
   "execution_count": 19,
   "id": "048c7da5",
   "metadata": {
    "id": "048c7da5",
    "outputId": "31069552-a546-4e17-f002-56ad058c8b31"
   },
   "outputs": [
    {
     "name": "stdout",
     "output_type": "stream",
     "text": [
      "(5329, 10)\n",
      "(5329,)\n"
     ]
    },
    {
     "data": {
      "text/plain": [
       "(None, None)"
      ]
     },
     "execution_count": 19,
     "metadata": {},
     "output_type": "execute_result"
    }
   ],
   "source": [
    "print(X_train.shape),print(y_train.shape)"
   ]
  },
  {
   "cell_type": "code",
   "execution_count": 20,
   "id": "b6f1e6c9",
   "metadata": {
    "id": "b6f1e6c9",
    "outputId": "b7925f02-e900-47ce-e8c1-8f01a19e6b5b"
   },
   "outputs": [
    {
     "name": "stdout",
     "output_type": "stream",
     "text": [
      "(2865, 10)\n",
      "(2865,)\n"
     ]
    },
    {
     "data": {
      "text/plain": [
       "(None, None)"
      ]
     },
     "execution_count": 20,
     "metadata": {},
     "output_type": "execute_result"
    }
   ],
   "source": [
    "print(X_test.shape),print(y_test.shape)"
   ]
  },
  {
   "cell_type": "code",
   "execution_count": 21,
   "id": "2ccfb1d3",
   "metadata": {
    "id": "2ccfb1d3",
    "outputId": "3356861d-1916-4acb-e7a6-88ebd2dc2a32"
   },
   "outputs": [
    {
     "data": {
      "text/plain": [
       "array([[0.11335703, 0.11661484, 0.12053902, ..., 0.10980305, 0.1089886 ,\n",
       "        0.11054346],\n",
       "       [0.11661484, 0.12053902, 0.11550422, ..., 0.1089886 , 0.11054346,\n",
       "        0.10165852],\n",
       "       [0.12053902, 0.11550422, 0.1156523 , ..., 0.11054346, 0.10165852,\n",
       "        0.09906708],\n",
       "       ...,\n",
       "       [0.36731823, 0.35176958, 0.36080261, ..., 0.36391234, 0.37042796,\n",
       "        0.37042796],\n",
       "       [0.35176958, 0.36080261, 0.35354657, ..., 0.37042796, 0.37042796,\n",
       "        0.37879461],\n",
       "       [0.36080261, 0.35354657, 0.35295424, ..., 0.37042796, 0.37879461,\n",
       "        0.37916482]])"
      ]
     },
     "execution_count": 21,
     "metadata": {},
     "output_type": "execute_result"
    }
   ],
   "source": [
    "X_train"
   ]
  },
  {
   "cell_type": "code",
   "execution_count": 22,
   "id": "b993d253",
   "metadata": {
    "id": "b993d253",
    "outputId": "ac298571-79e8-4013-9619-5597a076e340"
   },
   "outputs": [
    {
     "data": {
      "text/plain": [
       "(5329, 10)"
      ]
     },
     "execution_count": 22,
     "metadata": {},
     "output_type": "execute_result"
    }
   ],
   "source": [
    "X_train.shape"
   ]
  },
  {
   "cell_type": "code",
   "execution_count": 23,
   "id": "5526c682",
   "metadata": {
    "id": "5526c682",
    "scrolled": true
   },
   "outputs": [],
   "source": [
    "X_train=X_train.reshape(X_train.shape[0],X_train.shape[1],1)\n",
    "X_test=X_test.reshape(X_test.shape[0],X_test.shape[1],1)"
   ]
  },
  {
   "cell_type": "markdown",
   "id": "56064c52",
   "metadata": {
    "id": "56064c52"
   },
   "source": [
    "# MODEL BUILDING"
   ]
  },
  {
   "cell_type": "markdown",
   "id": "4b7664a6",
   "metadata": {
    "id": "4b7664a6"
   },
   "source": [
    "# Importing the model building libraries"
   ]
  },
  {
   "cell_type": "code",
   "execution_count": 24,
   "id": "73b218e7",
   "metadata": {
    "id": "73b218e7"
   },
   "outputs": [],
   "source": [
    "from tensorflow.keras.models import Sequential\n",
    "from tensorflow.keras.layers import Dense\n",
    "from tensorflow.keras.layers import LSTM"
   ]
  },
  {
   "cell_type": "markdown",
   "id": "a60b20a3",
   "metadata": {
    "id": "a60b20a3"
   },
   "source": [
    "# Initializing the model"
   ]
  },
  {
   "cell_type": "code",
   "execution_count": 25,
   "id": "9e74c6b6",
   "metadata": {
    "id": "9e74c6b6"
   },
   "outputs": [],
   "source": [
    "model=Sequential()"
   ]
  },
  {
   "cell_type": "markdown",
   "id": "fab15ddf",
   "metadata": {
    "id": "fab15ddf"
   },
   "source": [
    "# Adding LSTM Layers"
   ]
  },
  {
   "cell_type": "code",
   "execution_count": 26,
   "id": "04983ab1",
   "metadata": {
    "id": "04983ab1"
   },
   "outputs": [],
   "source": [
    "model.add(LSTM(50,return_sequences=True,input_shape=(10,1)))\n",
    "model.add(LSTM(50,return_sequences=True))\n",
    "model.add(LSTM(50))"
   ]
  },
  {
   "cell_type": "markdown",
   "id": "df8c0ce8",
   "metadata": {
    "id": "df8c0ce8"
   },
   "source": [
    "# Adding Output Layers"
   ]
  },
  {
   "cell_type": "code",
   "execution_count": 27,
   "id": "a1a1f00a",
   "metadata": {
    "id": "a1a1f00a",
    "outputId": "6a6251dc-fe0a-43d7-bed1-98b1404dec42"
   },
   "outputs": [
    {
     "name": "stdout",
     "output_type": "stream",
     "text": [
      "Model: \"sequential\"\n",
      "_________________________________________________________________\n",
      " Layer (type)                Output Shape              Param #   \n",
      "=================================================================\n",
      " lstm (LSTM)                 (None, 10, 50)            10400     \n",
      "                                                                 \n",
      " lstm_1 (LSTM)               (None, 10, 50)            20200     \n",
      "                                                                 \n",
      " lstm_2 (LSTM)               (None, 50)                20200     \n",
      "                                                                 \n",
      " dense (Dense)               (None, 1)                 51        \n",
      "                                                                 \n",
      "=================================================================\n",
      "Total params: 50,851\n",
      "Trainable params: 50,851\n",
      "Non-trainable params: 0\n",
      "_________________________________________________________________\n"
     ]
    }
   ],
   "source": [
    "model.add(Dense(1))\n",
    "model.summary()"
   ]
  },
  {
   "cell_type": "markdown",
   "id": "def1c5dc",
   "metadata": {
    "id": "def1c5dc"
   },
   "source": [
    "# Configure The Learning Process"
   ]
  },
  {
   "cell_type": "code",
   "execution_count": 28,
   "id": "b884c8f7",
   "metadata": {
    "id": "b884c8f7"
   },
   "outputs": [],
   "source": [
    "model.compile(loss='mean_squared_error',optimizer='adam')"
   ]
  },
  {
   "cell_type": "markdown",
   "id": "6f019ccb",
   "metadata": {
    "id": "6f019ccb"
   },
   "source": [
    "# Train The Model"
   ]
  },
  {
   "cell_type": "code",
   "execution_count": 29,
   "id": "ea1ffd33",
   "metadata": {
    "id": "ea1ffd33",
    "outputId": "efc9c59f-e5a3-4573-ddb3-41a16623f017"
   },
   "outputs": [
    {
     "name": "stdout",
     "output_type": "stream",
     "text": [
      "Epoch 1/10\n",
      "84/84 [==============================] - 24s 94ms/step - loss: 0.0023 - val_loss: 0.0018\n",
      "Epoch 2/10\n",
      "84/84 [==============================] - 4s 47ms/step - loss: 1.2925e-04 - val_loss: 7.8879e-04\n",
      "Epoch 3/10\n",
      "84/84 [==============================] - 4s 47ms/step - loss: 1.2440e-04 - val_loss: 7.7470e-04\n",
      "Epoch 4/10\n",
      "84/84 [==============================] - 4s 43ms/step - loss: 1.3383e-04 - val_loss: 8.0447e-04\n",
      "Epoch 5/10\n",
      "84/84 [==============================] - 3s 38ms/step - loss: 1.2623e-04 - val_loss: 7.9356e-04\n",
      "Epoch 6/10\n",
      "84/84 [==============================] - 4s 49ms/step - loss: 1.2971e-04 - val_loss: 7.6455e-04\n",
      "Epoch 7/10\n",
      "84/84 [==============================] - 4s 45ms/step - loss: 1.2436e-04 - val_loss: 8.2224e-04\n",
      "Epoch 8/10\n",
      "84/84 [==============================] - 4s 49ms/step - loss: 1.2516e-04 - val_loss: 7.8164e-04\n",
      "Epoch 9/10\n",
      "84/84 [==============================] - 3s 39ms/step - loss: 1.2851e-04 - val_loss: 0.0015\n",
      "Epoch 10/10\n",
      "84/84 [==============================] - 4s 46ms/step - loss: 1.2541e-04 - val_loss: 0.0010\n"
     ]
    },
    {
     "data": {
      "text/plain": [
       "<keras.callbacks.History at 0x2348ef2ce20>"
      ]
     },
     "execution_count": 29,
     "metadata": {},
     "output_type": "execute_result"
    }
   ],
   "source": [
    "model.fit(X_train,y_train,validation_data=(X_test,y_test),epochs=10,batch_size=64,verbose=1)"
   ]
  },
  {
   "cell_type": "markdown",
   "id": "a9f7ffee",
   "metadata": {
    "id": "a9f7ffee"
   },
   "source": [
    "# Model Evaluation"
   ]
  },
  {
   "cell_type": "code",
   "execution_count": 30,
   "id": "76557fbc",
   "metadata": {
    "id": "76557fbc",
    "outputId": "cd4ba1f4-fd5b-439b-883f-e8c1d4f27450"
   },
   "outputs": [
    {
     "name": "stdout",
     "output_type": "stream",
     "text": [
      "167/167 [==============================] - 5s 11ms/step\n",
      "90/90 [==============================] - 1s 12ms/step\n"
     ]
    }
   ],
   "source": [
    "train_predict=model.predict(X_train)\n",
    "test_predict=model.predict(X_test)"
   ]
  },
  {
   "cell_type": "code",
   "execution_count": 31,
   "id": "39ba7ccc",
   "metadata": {
    "id": "39ba7ccc"
   },
   "outputs": [],
   "source": [
    "train_predict=scalar.inverse_transform(train_predict)\n",
    "test_predict=scalar.inverse_transform(test_predict)"
   ]
  },
  {
   "cell_type": "code",
   "execution_count": 32,
   "id": "1cb389e9",
   "metadata": {
    "id": "1cb389e9",
    "outputId": "7d57ba4c-aad1-42d4-e558-7ffd55509cc0"
   },
   "outputs": [
    {
     "data": {
      "text/plain": [
       "28.85425913106353"
      ]
     },
     "execution_count": 32,
     "metadata": {},
     "output_type": "execute_result"
    }
   ],
   "source": [
    "import math\n",
    "from sklearn.metrics import mean_squared_error\n",
    "\n",
    "math.sqrt(mean_squared_error(y_train,train_predict))"
   ]
  },
  {
   "cell_type": "markdown",
   "id": "c3ef803a",
   "metadata": {
    "id": "c3ef803a"
   },
   "source": [
    "# Save The Model"
   ]
  },
  {
   "cell_type": "code",
   "execution_count": 33,
   "id": "251763e2",
   "metadata": {
    "id": "251763e2"
   },
   "outputs": [],
   "source": [
    "from tensorflow.keras.models import load_model\n",
    "model.save(\"crudeoilprediction.h5\")"
   ]
  },
  {
   "cell_type": "markdown",
   "id": "a37055b7",
   "metadata": {
    "id": "a37055b7"
   },
   "source": [
    "# Test The Model"
   ]
  },
  {
   "cell_type": "code",
   "execution_count": 34,
   "id": "cea10a28",
   "metadata": {
    "id": "cea10a28",
    "outputId": "f21f7c71-a6a7-4671-9e6a-a9a271f00365"
   },
   "outputs": [
    {
     "data": {
      "image/png": "[encoded data removed]",
      "text/plain": [
       "<Figure size 432x288 with 1 Axes>"
      ]
     },
     "metadata": {
      "needs_background": "light"
     },
     "output_type": "display_data"
    }
   ],
   "source": [
    "look_back= 10\n",
    "\n",
    "trainPredictPlot = np.empty_like(data_oil) \n",
    "\n",
    "trainPredictPlot[:, :]= np.nan\n",
    "\n",
    "trainPredictPlot[look_back:len(train_predict)+look_back, :]= train_predict\n",
    "\n",
    "testPredictPlot =np.empty_like(data_oil)\n",
    "\n",
    "testPredictPlot[:, :]= np.nan\n",
    "\n",
    "testPredictPlot[len(train_predict)+(look_back*2)+1:len(data_oil)-1, :]= test_predict \n",
    "                 \n",
    "\n",
    "plt.plot(scalar.inverse_transform(data_oil))\n",
    "\n",
    "plt.plot(trainPredictPlot) \n",
    "plt.plot(testPredictPlot)\n",
    "plt.show()"
   ]
  },
  {
   "cell_type": "code",
   "execution_count": 35,
   "id": "27c3810d",
   "metadata": {
    "id": "27c3810d",
    "outputId": "3081078a-6da9-4cbb-fa53-a50290e96a91"
   },
   "outputs": [
    {
     "data": {
      "text/plain": [
       "2876"
      ]
     },
     "execution_count": 35,
     "metadata": {},
     "output_type": "execute_result"
    }
   ],
   "source": [
    "len(test_data)"
   ]
  },
  {
   "cell_type": "code",
   "execution_count": 36,
   "id": "43f503f3",
   "metadata": {
    "id": "43f503f3",
    "outputId": "8b53574b-908b-415b-d7bc-2358ca0e1f24"
   },
   "outputs": [
    {
     "data": {
      "text/plain": [
       "(1, 10)"
      ]
     },
     "execution_count": 36,
     "metadata": {},
     "output_type": "execute_result"
    }
   ],
   "source": [
    "x_input=test_data[2866:].reshape(1,-1)\n",
    "x_input.shape"
   ]
  },
  {
   "cell_type": "code",
   "execution_count": 37,
   "id": "5d5c6a96",
   "metadata": {
    "id": "5d5c6a96",
    "outputId": "0b44b637-9c3a-42d6-c12c-405d040c5244"
   },
   "outputs": [
    {
     "data": {
      "text/plain": [
       "[0.44172960165852215,\n",
       " 0.48111950244335855,\n",
       " 0.49726047682511476,\n",
       " 0.4679401747371539,\n",
       " 0.4729749740855915,\n",
       " 0.47119798608026064,\n",
       " 0.47341922108692425,\n",
       " 0.4649785280616022,\n",
       " 0.4703835332444839,\n",
       " 0.47149415074781587]"
      ]
     },
     "execution_count": 37,
     "metadata": {},
     "output_type": "execute_result"
    }
   ],
   "source": [
    "temp_input=list(x_input)\n",
    "temp_input=temp_input[0].tolist()\n",
    "temp_input"
   ]
  },
  {
   "cell_type": "code",
   "execution_count": 38,
   "id": "e043cce1",
   "metadata": {
    "id": "e043cce1",
    "outputId": "6904f597-f7d5-4bf2-cf86-e10e2e72dbb8"
   },
   "outputs": [
    {
     "name": "stdout",
     "output_type": "stream",
     "text": [
      "[0.45982504]\n",
      "11\n",
      "1 day input [0.4811195  0.49726048 0.46794017 0.47297497 0.47119799 0.47341922\n",
      " 0.46497853 0.47038353 0.47149415 0.45982504]\n",
      "1 day output [[0.4615282]]\n",
      "2 day input [0.49726048 0.46794017 0.47297497 0.47119799 0.47341922 0.46497853\n",
      " 0.47038353 0.47149415 0.45982504 0.46152821]\n",
      "2 day output [[0.4596331]]\n",
      "3 day input [0.46794017 0.47297497 0.47119799 0.47341922 0.46497853 0.47038353\n",
      " 0.47149415 0.45982504 0.46152821 0.45963311]\n",
      "3 day output [[0.4564149]]\n",
      "4 day input [0.47297497 0.47119799 0.47341922 0.46497853 0.47038353 0.47149415\n",
      " 0.45982504 0.46152821 0.45963311 0.45641491]\n",
      "4 day output [[0.45538804]]\n",
      "5 day input [0.47119799 0.47341922 0.46497853 0.47038353 0.47149415 0.45982504\n",
      " 0.46152821 0.45963311 0.45641491 0.45538804]\n",
      "5 day output [[0.4536885]]\n",
      "6 day input [0.47341922 0.46497853 0.47038353 0.47149415 0.45982504 0.46152821\n",
      " 0.45963311 0.45641491 0.45538804 0.4536885 ]\n",
      "6 day output [[0.4519297]]\n",
      "7 day input [0.46497853 0.47038353 0.47149415 0.45982504 0.46152821 0.45963311\n",
      " 0.45641491 0.45538804 0.4536885  0.45192969]\n",
      "7 day output [[0.44984227]]\n",
      "8 day input [0.47038353 0.47149415 0.45982504 0.46152821 0.45963311 0.45641491\n",
      " 0.45538804 0.4536885  0.45192969 0.44984227]\n",
      "8 day output [[0.44826564]]\n",
      "9 day input [0.47149415 0.45982504 0.46152821 0.45963311 0.45641491 0.45538804\n",
      " 0.4536885  0.45192969 0.44984227 0.44826564]\n",
      "9 day output [[0.44611448]]\n",
      "[[0.4598250389099121], [0.4615282118320465], [0.45963311195373535], [0.4564149081707001], [0.45538803935050964], [0.45368850231170654], [0.4519296884536743], [0.44984227418899536], [0.4482656419277191], [0.4461144804954529]]\n"
     ]
    }
   ],
   "source": [
    "lst_output=[]\n",
    "n_steps=10\n",
    "i=0\n",
    "while(i<10):\n",
    "    if(len(temp_input)>10):\n",
    "\n",
    "#print(temp input)\n",
    "        x_input=np.array(temp_input[1:])\n",
    "        print(\"{} day input {}\".format(i,x_input))\n",
    "\n",
    "        x_input=x_input.reshape(1,-1)\n",
    "\n",
    "        x_input=x_input.reshape((1, n_steps, 1))\n",
    "\n",
    "        #print(x_input)\n",
    "\n",
    "        yhat = model.predict(x_input, verbose=0)\n",
    "        print(\"{} day output {}\".format(i, yhat))\n",
    "\n",
    "        temp_input.extend(yhat[0].tolist())\n",
    "        temp_input=temp_input[1:] \n",
    "        #print(temp_input)\n",
    "        lst_output.extend(yhat.tolist())\n",
    "        i=i+1\n",
    "\n",
    "    else:\n",
    "\n",
    "        x_input = x_input.reshape((1, n_steps,1))\n",
    "        yhat = model.predict(x_input, verbose=0)\n",
    "        print(yhat[0])\n",
    "        temp_input.extend(yhat[0].tolist())\n",
    "        print(len(temp_input))\n",
    "        lst_output.extend(yhat.tolist())\n",
    "        i=i+1\n",
    "        \n",
    "print (lst_output) "
   ]
  },
  {
   "cell_type": "code",
   "execution_count": 39,
   "id": "79e3c58e",
   "metadata": {
    "id": "79e3c58e"
   },
   "outputs": [],
   "source": [
    "day_new=np.arange(1,11)\n",
    "day_pred=np.arange(11,21)"
   ]
  },
  {
   "cell_type": "code",
   "execution_count": 40,
   "id": "5a56164d",
   "metadata": {
    "id": "5a56164d",
    "outputId": "2461a087-0b71-40d7-9144-deb6e7c68d45"
   },
   "outputs": [
    {
     "data": {
      "text/plain": [
       "8216"
      ]
     },
     "execution_count": 40,
     "metadata": {},
     "output_type": "execute_result"
    }
   ],
   "source": [
    "len(data_oil)"
   ]
  },
  {
   "cell_type": "code",
   "execution_count": 41,
   "id": "3faa1080",
   "metadata": {
    "id": "3faa1080",
    "outputId": "8b137181-eb42-415c-d488-ea44511f806e"
   },
   "outputs": [
    {
     "data": {
      "image/png": "[encoded data removed]",
      "text/plain": [
       "<Figure size 432x288 with 1 Axes>"
      ]
     },
     "metadata": {
      "needs_background": "light"
     },
     "output_type": "display_data"
    }
   ],
   "source": [
    "plt.plot(day_new,scalar.inverse_transform(data_oil[8206:]))\n",
    "plt.title(\"Review of prediction\")\n",
    "plt.plot(day_pred,scalar.inverse_transform(lst_output))\n",
    "plt.show()"
   ]
  },
  {
   "cell_type": "code",
   "execution_count": 42,
   "id": "3fead8ea",
   "metadata": {
    "id": "3fead8ea",
    "outputId": "fa438d98-f875-44d7-8799-99d0cc486a27"
   },
   "outputs": [
    {
     "data": {
      "text/plain": [
       "[<matplotlib.lines.Line2D at 0x23499c546a0>]"
      ]
     },
     "execution_count": 42,
     "metadata": {},
     "output_type": "execute_result"
    },
    {
     "data": {
      "image/png": "[encoded data removed]",
      "text/plain": [
       "<Figure size 432x288 with 1 Axes>"
      ]
     },
     "metadata": {
      "needs_background": "light"
     },
     "output_type": "display_data"
    }
   ],
   "source": [
    "df3=data_oil.tolist()\n",
    "df3.extend(lst_output)\n",
    "plt.title(\"Past data nad next 10 days output prediction\")\n",
    "plt.plot(df3[8100:])"
   ]
  },
  {
   "cell_type": "code",
   "execution_count": 43,
   "id": "661d609a",
   "metadata": {
    "id": "661d609a",
    "outputId": "f82c1838-a6f6-446c-a8c8-81149aa8376f"
   },
   "outputs": [
    {
     "data": {
      "text/plain": [
       "[<matplotlib.lines.Line2D at 0x23499ce7b20>]"
      ]
     },
     "execution_count": 43,
     "metadata": {},
     "output_type": "execute_result"
    },
    {
     "data": {
      "image/png": "[encoded data removed]",
      "text/plain": [
       "<Figure size 432x288 with 1 Axes>"
      ]
     },
     "metadata": {
      "needs_background": "light"
     },
     "output_type": "display_data"
    }
   ],
   "source": [
    "df3=scalar.inverse_transform(df3).tolist()\n",
    "plt.title(\"Past data nad next 10 days output prediction after reversing the scaled values\")\n",
    "plt.plot(df3)"
   ]
  },
  {
   "cell_type": "code",
   "execution_count": null,
   "id": "3d5033e8",
   "metadata": {
    "id": "3d5033e8"
   },
   "outputs": [],
   "source": []
  },
  {
   "cell_type": "code",
   "execution_count": null,
   "id": "eac62514",
   "metadata": {},
   "outputs": [],
   "source": []
  }
 ],
 "metadata": {
  "colab": {
   "collapsed_sections": [
    "187867e9",
    "c7caca92",
    "d7aa1bff"
   ],
   "provenance": []
  },
  "kernelspec": {
   "display_name": "Python 3 (ipykernel)",
   "language": "python",
   "name": "python3"
  },
  "language_info": {
   "codemirror_mode": {
    "name": "ipython",
    "version": 3
   },
   "file_extension": ".py",
   "mimetype": "text/x-python",
   "name": "python",
   "nbconvert_exporter": "python",
   "pygments_lexer": "ipython3",
   "version": "3.9.12"
  }
 },
 "nbformat": 4,
 "nbformat_minor": 5
}
